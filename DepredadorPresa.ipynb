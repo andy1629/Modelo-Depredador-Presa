{
  "nbformat": 4,
  "nbformat_minor": 0,
  "metadata": {
    "colab": {
      "name": "DepredadorPresa.ipynb",
      "provenance": [],
      "collapsed_sections": []
    },
    "kernelspec": {
      "name": "python3",
      "display_name": "Python 3"
    }
  },
  "cells": [
    {
      "cell_type": "markdown",
      "metadata": {
        "id": "AhdbGTINVvkJ",
        "colab_type": "text"
      },
      "source": [
        "\n",
        "\n",
        "**Luisa Fernanda Arboleda Segura ** \n",
        "\n",
        "**Johana Catalina Rios Torres **\n",
        "\n",
        "**Profesor: Gabriel Dario Uribe.**\n",
        "\n"
      ]
    },
    {
      "cell_type": "markdown",
      "metadata": {
        "id": "XTqLAqMCvafG",
        "colab_type": "text"
      },
      "source": [
        "# Ecuaciones de Lotka-Volterra: modelo presa depredador.\n",
        "\n",
        "Las ecuaciones de Lotka-Volterra son un modelo biomatemático que pretende responder a estas cuestiones prediciendo la dinámica de las poblaciones de presa y depredador bajo una serie de hipótesis:\n",
        "\n",
        "* El ecosistema está aislado: no hay migración, no hay otras especies presentes, no hay plagas...\n",
        "* La población de presas en ausencia de depredadores crece de manera exponencial: la velocidad de reproducción es proporcional al número de individuos. Las presas sólo mueren cuando son cazadas por el depredador.\n",
        "* La población de depredadores en ausencia de presas decrece de manera exponencial.\n",
        "* La población de depredadores afecta a la de presas haciéndola decrecer de forma proporcional al número de presas y depredadores (esto es como decir de forma proporcional al número de posibles encuentros entre presa y depredador).\n",
        "* La población de presas afecta a la de depredadores también de manera proporcional al número de encuentros, pero con distinta constante de proporcionalidad (dependerá de cuanto sacien su hambre los depredadores al encontrar una presa).\n",
        "\n",
        "Se trata de un sistema de dos ecuaciones diferenciales de primer orden, acopladas, autónomas y no lineales:"
      ]
    },
    {
      "cell_type": "markdown",
      "metadata": {
        "id": "oBJ3WhT9vgYk",
        "colab_type": "text"
      },
      "source": [
        "$$ \\frac{dx}{dt} = \\alpha x + \\beta x y $$\n",
        "$$ \\frac{dy}{dt} =  -\\gamma y + \\delta y x $$"
      ]
    },
    {
      "cell_type": "markdown",
      "metadata": {
        "id": "f17NTaXtvmAc",
        "colab_type": "text"
      },
      "source": [
        "Donde X es el número de presas(Alces) e Y es el número de  depredadores (Lobos). Los parámetros son constantes positivas que representan:\n",
        "\n",
        "* $\\alpha$: tasa de crecimiento de las presas .\n",
        "* $\\beta$: éxito en la caza del depredador.\n",
        "* $\\gamma$: tasa de decrecimiento de los depredadores.\n",
        "* $\\delta$: éxito en la caza y cuánto alimenta cazar una presa al depredador."
      ]
    },
    {
      "cell_type": "code",
      "metadata": {
        "id": "ko70TSNmu5RB",
        "colab_type": "code",
        "colab": {}
      },
      "source": [
        "import numpy as np\n",
        "import scipy as sp\n",
        "import pandas as pd\n",
        "import matplotlib.pyplot as plt\n",
        "from scipy.integrate import odeint\n",
        "from scipy.integrate import RK45"
      ],
      "execution_count": 0,
      "outputs": []
    },
    {
      "cell_type": "markdown",
      "metadata": {
        "id": "W9bmTpLCKO_3",
        "colab_type": "text"
      },
      "source": [
        "Dada la tabla, de los datos recopilados desde el 1920 hasta 1949 en una gran zona de Estados Unidos\n",
        "(Estos datos fueron inventados)"
      ]
    },
    {
      "cell_type": "code",
      "metadata": {
        "id": "XW_Vx8duv-Fe",
        "colab_type": "code",
        "outputId": "696221e3-767e-4269-876b-1163c600db1c",
        "colab": {
          "base_uri": "https://localhost:8080/",
          "height": 947
        }
      },
      "source": [
        "Anios=list(range(1920, 1950))\n",
        "Lobos=[6000, 6503, 7207, 8159, 9156, 10058, 10693, 10821, 10503, 9918, 9134, 8311, 7543, 6877, 6376, 5965, 5732, 5684, 5897, 6310, 6976, 7831, 8851, 9830, 10556, 10834, 10675, 10128, 9387, 8574]\n",
        "Alces=[20000, 21861, 23182, 23572, 22801, 20987, 18588, 16166, 14122, 12630, 11702, 11289, 11334,12652, 13884, 15464, 17330, 19353, 21303, 22841,23567, 23174, 21657, 19383, 16914, 14721, 13046, 11941, 11370, 11273]\n",
        "df=pd.DataFrame({'Anios':Anios,'Lobos':Lobos, 'Alces':Alces})\n",
        "df"
      ],
      "execution_count": 0,
      "outputs": [
        {
          "output_type": "execute_result",
          "data": {
            "text/html": [
              "<div>\n",
              "<style scoped>\n",
              "    .dataframe tbody tr th:only-of-type {\n",
              "        vertical-align: middle;\n",
              "    }\n",
              "\n",
              "    .dataframe tbody tr th {\n",
              "        vertical-align: top;\n",
              "    }\n",
              "\n",
              "    .dataframe thead th {\n",
              "        text-align: right;\n",
              "    }\n",
              "</style>\n",
              "<table border=\"1\" class=\"dataframe\">\n",
              "  <thead>\n",
              "    <tr style=\"text-align: right;\">\n",
              "      <th></th>\n",
              "      <th>Anios</th>\n",
              "      <th>Lobos</th>\n",
              "      <th>Alces</th>\n",
              "    </tr>\n",
              "  </thead>\n",
              "  <tbody>\n",
              "    <tr>\n",
              "      <th>0</th>\n",
              "      <td>1920</td>\n",
              "      <td>6000</td>\n",
              "      <td>20000</td>\n",
              "    </tr>\n",
              "    <tr>\n",
              "      <th>1</th>\n",
              "      <td>1921</td>\n",
              "      <td>6503</td>\n",
              "      <td>21861</td>\n",
              "    </tr>\n",
              "    <tr>\n",
              "      <th>2</th>\n",
              "      <td>1922</td>\n",
              "      <td>7207</td>\n",
              "      <td>23182</td>\n",
              "    </tr>\n",
              "    <tr>\n",
              "      <th>3</th>\n",
              "      <td>1923</td>\n",
              "      <td>8159</td>\n",
              "      <td>23572</td>\n",
              "    </tr>\n",
              "    <tr>\n",
              "      <th>4</th>\n",
              "      <td>1924</td>\n",
              "      <td>9156</td>\n",
              "      <td>22801</td>\n",
              "    </tr>\n",
              "    <tr>\n",
              "      <th>5</th>\n",
              "      <td>1925</td>\n",
              "      <td>10058</td>\n",
              "      <td>20987</td>\n",
              "    </tr>\n",
              "    <tr>\n",
              "      <th>6</th>\n",
              "      <td>1926</td>\n",
              "      <td>10693</td>\n",
              "      <td>18588</td>\n",
              "    </tr>\n",
              "    <tr>\n",
              "      <th>7</th>\n",
              "      <td>1927</td>\n",
              "      <td>10821</td>\n",
              "      <td>16166</td>\n",
              "    </tr>\n",
              "    <tr>\n",
              "      <th>8</th>\n",
              "      <td>1928</td>\n",
              "      <td>10503</td>\n",
              "      <td>14122</td>\n",
              "    </tr>\n",
              "    <tr>\n",
              "      <th>9</th>\n",
              "      <td>1929</td>\n",
              "      <td>9918</td>\n",
              "      <td>12630</td>\n",
              "    </tr>\n",
              "    <tr>\n",
              "      <th>10</th>\n",
              "      <td>1930</td>\n",
              "      <td>9134</td>\n",
              "      <td>11702</td>\n",
              "    </tr>\n",
              "    <tr>\n",
              "      <th>11</th>\n",
              "      <td>1931</td>\n",
              "      <td>8311</td>\n",
              "      <td>11289</td>\n",
              "    </tr>\n",
              "    <tr>\n",
              "      <th>12</th>\n",
              "      <td>1932</td>\n",
              "      <td>7543</td>\n",
              "      <td>11334</td>\n",
              "    </tr>\n",
              "    <tr>\n",
              "      <th>13</th>\n",
              "      <td>1933</td>\n",
              "      <td>6877</td>\n",
              "      <td>12652</td>\n",
              "    </tr>\n",
              "    <tr>\n",
              "      <th>14</th>\n",
              "      <td>1934</td>\n",
              "      <td>6376</td>\n",
              "      <td>13884</td>\n",
              "    </tr>\n",
              "    <tr>\n",
              "      <th>15</th>\n",
              "      <td>1935</td>\n",
              "      <td>5965</td>\n",
              "      <td>15464</td>\n",
              "    </tr>\n",
              "    <tr>\n",
              "      <th>16</th>\n",
              "      <td>1936</td>\n",
              "      <td>5732</td>\n",
              "      <td>17330</td>\n",
              "    </tr>\n",
              "    <tr>\n",
              "      <th>17</th>\n",
              "      <td>1937</td>\n",
              "      <td>5684</td>\n",
              "      <td>19353</td>\n",
              "    </tr>\n",
              "    <tr>\n",
              "      <th>18</th>\n",
              "      <td>1938</td>\n",
              "      <td>5897</td>\n",
              "      <td>21303</td>\n",
              "    </tr>\n",
              "    <tr>\n",
              "      <th>19</th>\n",
              "      <td>1939</td>\n",
              "      <td>6310</td>\n",
              "      <td>22841</td>\n",
              "    </tr>\n",
              "    <tr>\n",
              "      <th>20</th>\n",
              "      <td>1940</td>\n",
              "      <td>6976</td>\n",
              "      <td>23567</td>\n",
              "    </tr>\n",
              "    <tr>\n",
              "      <th>21</th>\n",
              "      <td>1941</td>\n",
              "      <td>7831</td>\n",
              "      <td>23174</td>\n",
              "    </tr>\n",
              "    <tr>\n",
              "      <th>22</th>\n",
              "      <td>1942</td>\n",
              "      <td>8851</td>\n",
              "      <td>21657</td>\n",
              "    </tr>\n",
              "    <tr>\n",
              "      <th>23</th>\n",
              "      <td>1943</td>\n",
              "      <td>9830</td>\n",
              "      <td>19383</td>\n",
              "    </tr>\n",
              "    <tr>\n",
              "      <th>24</th>\n",
              "      <td>1944</td>\n",
              "      <td>10556</td>\n",
              "      <td>16914</td>\n",
              "    </tr>\n",
              "    <tr>\n",
              "      <th>25</th>\n",
              "      <td>1945</td>\n",
              "      <td>10834</td>\n",
              "      <td>14721</td>\n",
              "    </tr>\n",
              "    <tr>\n",
              "      <th>26</th>\n",
              "      <td>1946</td>\n",
              "      <td>10675</td>\n",
              "      <td>13046</td>\n",
              "    </tr>\n",
              "    <tr>\n",
              "      <th>27</th>\n",
              "      <td>1947</td>\n",
              "      <td>10128</td>\n",
              "      <td>11941</td>\n",
              "    </tr>\n",
              "    <tr>\n",
              "      <th>28</th>\n",
              "      <td>1948</td>\n",
              "      <td>9387</td>\n",
              "      <td>11370</td>\n",
              "    </tr>\n",
              "    <tr>\n",
              "      <th>29</th>\n",
              "      <td>1949</td>\n",
              "      <td>8574</td>\n",
              "      <td>11273</td>\n",
              "    </tr>\n",
              "  </tbody>\n",
              "</table>\n",
              "</div>"
            ],
            "text/plain": [
              "    Anios  Lobos  Alces\n",
              "0    1920   6000  20000\n",
              "1    1921   6503  21861\n",
              "2    1922   7207  23182\n",
              "3    1923   8159  23572\n",
              "4    1924   9156  22801\n",
              "5    1925  10058  20987\n",
              "6    1926  10693  18588\n",
              "7    1927  10821  16166\n",
              "8    1928  10503  14122\n",
              "9    1929   9918  12630\n",
              "10   1930   9134  11702\n",
              "11   1931   8311  11289\n",
              "12   1932   7543  11334\n",
              "13   1933   6877  12652\n",
              "14   1934   6376  13884\n",
              "15   1935   5965  15464\n",
              "16   1936   5732  17330\n",
              "17   1937   5684  19353\n",
              "18   1938   5897  21303\n",
              "19   1939   6310  22841\n",
              "20   1940   6976  23567\n",
              "21   1941   7831  23174\n",
              "22   1942   8851  21657\n",
              "23   1943   9830  19383\n",
              "24   1944  10556  16914\n",
              "25   1945  10834  14721\n",
              "26   1946  10675  13046\n",
              "27   1947  10128  11941\n",
              "28   1948   9387  11370\n",
              "29   1949   8574  11273"
            ]
          },
          "metadata": {
            "tags": []
          },
          "execution_count": 3
        }
      ]
    },
    {
      "cell_type": "code",
      "metadata": {
        "id": "yj_c7SGuUVDW",
        "colab_type": "code",
        "outputId": "b7ffaa2b-9321-42b2-8cae-5cf6096a0d2d",
        "colab": {
          "base_uri": "https://localhost:8080/",
          "height": 264
        }
      },
      "source": [
        "plt.scatter(Anios,Lobos, color='purple')\n",
        "plt.scatter(Anios, Alces, color='r')\n",
        "plt.rcParams['figure.figsize'] = (20, 7)"
      ],
      "execution_count": 0,
      "outputs": [
        {
          "output_type": "display_data",
          "data": {
            "image/png": "[encoded data removed]",
            "text/plain": [
              "<Figure size 432x288 with 1 Axes>"
            ]
          },
          "metadata": {
            "tags": [],
            "needs_background": "light"
          }
        }
      ]
    },
    {
      "cell_type": "markdown",
      "metadata": {
        "id": "zgPjpQ-wqjVj",
        "colab_type": "text"
      },
      "source": [
        "para poder aplicar el modelo deedador-presa a los datos de la tabla es necesario conocer los valores iniciales:\n",
        "- Alces X(0)= 20000\n",
        "- Lobos Y(0)= 6000\n",
        "\n",
        "Elegimos los datos comprendidos entre dos valores maximos y hacemos su media, estimar Ẋ(t) y Ȳ(t).\n",
        "En el caso de los Lobos consideramos la poblacion comprendida entre 1927 y 1945, en el caso de los Alce 1923 y 1940.\n"
      ]
    },
    {
      "cell_type": "markdown",
      "metadata": {
        "id": "yV5zPwF00tDM",
        "colab_type": "text"
      },
      "source": [
        "#Elegimos los datos comprendidos entre dos valores maximos de los Lobos y los Alces para calcular la media de estos"
      ]
    },
    {
      "cell_type": "code",
      "metadata": {
        "id": "EwhPn7AXz5RM",
        "colab_type": "code",
        "outputId": "76f86522-e2b0-4cca-b605-270f5be75d39",
        "colab": {
          "base_uri": "https://localhost:8080/",
          "height": 87
        }
      },
      "source": [
        "## datos maximos de la tabla de los Lobos Y\n",
        "list=df['Lobos'].array\n",
        "maxLobos = list[7:25]\n",
        "print (maxLobos)"
      ],
      "execution_count": 0,
      "outputs": [
        {
          "output_type": "stream",
          "text": [
            "<PandasArray>\n",
            "[10821, 10503,  9918,  9134,  8311,  7543,  6877,  6376,  5965,  5732,  5684,\n",
            "  5897,  6310,  6976,  7831,  8851,  9830, 10556]\n",
            "Length: 18, dtype: int64\n"
          ],
          "name": "stdout"
        }
      ]
    },
    {
      "cell_type": "code",
      "metadata": {
        "id": "9ilRLUPjyBgZ",
        "colab_type": "code",
        "outputId": "f4de7c40-edcc-4518-bfdf-82543ebc40b7",
        "colab": {
          "base_uri": "https://localhost:8080/",
          "height": 336
        }
      },
      "source": [
        "## Media de los datos max de los Lobos Y\n",
        "contador = 0\n",
        "for i in range(18):\n",
        "  contador =contador + maxLobos[i]\n",
        "  mediaLobos = contador/18\n",
        "  print(mediaLobos)"
      ],
      "execution_count": 0,
      "outputs": [
        {
          "output_type": "stream",
          "text": [
            "601.1666666666666\n",
            "1184.6666666666667\n",
            "1735.6666666666667\n",
            "2243.1111111111113\n",
            "2704.8333333333335\n",
            "3123.8888888888887\n",
            "3505.9444444444443\n",
            "3860.1666666666665\n",
            "4191.555555555556\n",
            "4510.0\n",
            "4825.777777777777\n",
            "5153.388888888889\n",
            "5503.944444444444\n",
            "5891.5\n",
            "6326.555555555556\n",
            "6818.277777777777\n",
            "7364.388888888889\n",
            "7950.833333333333\n"
          ],
          "name": "stdout"
        }
      ]
    },
    {
      "cell_type": "markdown",
      "metadata": {
        "id": "sH2zNkWWIVCU",
        "colab_type": "text"
      },
      "source": [
        "Por lo tanto la media de los valores de los Lobos:  $$ Y(t) = \\frac {\\alpha} {\\beta} = 7950.83 $$\n",
        "\n",
        "$\\alpha$ = 7950.833333333333$\\beta$"
      ]
    },
    {
      "cell_type": "code",
      "metadata": {
        "id": "vY3x3sQryzFP",
        "colab_type": "code",
        "outputId": "600c31aa-c9b4-499a-bbc7-bf1a1c7a5d78",
        "colab": {
          "base_uri": "https://localhost:8080/",
          "height": 87
        }
      },
      "source": [
        "## datos maximos de la tabla de los Alces X\n",
        "list=df['Alces'].array\n",
        "maxAlces = list[3:20]\n",
        "print (maxAlces)"
      ],
      "execution_count": 0,
      "outputs": [
        {
          "output_type": "stream",
          "text": [
            "<PandasArray>\n",
            "[23572, 22801, 20987, 18588, 16166, 14122, 12630, 11702, 11289, 11334, 12652,\n",
            " 13884, 15464, 17330, 19353, 21303, 22841]\n",
            "Length: 17, dtype: int64\n"
          ],
          "name": "stdout"
        }
      ]
    },
    {
      "cell_type": "code",
      "metadata": {
        "id": "9kwKAo7dyzRn",
        "colab_type": "code",
        "outputId": "2d268cc6-34fb-4c1f-932d-ce10cffb047b",
        "colab": {
          "base_uri": "https://localhost:8080/",
          "height": 318
        }
      },
      "source": [
        "## Media de los datos max de los Alces X\n",
        "contador = 0\n",
        "for i in range(17):\n",
        "  contador =contador + maxAlces[i]\n",
        "  mediaAlces = contador/17\n",
        "  print(mediaAlces)"
      ],
      "execution_count": 0,
      "outputs": [
        {
          "output_type": "stream",
          "text": [
            "1386.5882352941176\n",
            "2727.823529411765\n",
            "3962.3529411764707\n",
            "5055.764705882353\n",
            "6006.705882352941\n",
            "6837.411764705882\n",
            "7580.35294117647\n",
            "8268.70588235294\n",
            "8932.764705882353\n",
            "9599.470588235294\n",
            "10343.70588235294\n",
            "11160.411764705883\n",
            "12070.058823529413\n",
            "13089.470588235294\n",
            "14227.882352941177\n",
            "15481.0\n",
            "16824.58823529412\n"
          ],
          "name": "stdout"
        }
      ]
    },
    {
      "cell_type": "markdown",
      "metadata": {
        "id": "TLyLUma3GpeR",
        "colab_type": "text"
      },
      "source": [
        "Por lo tanto la **media** de los valores de los Alces: $$ X(t) = \\frac {\\gamma} {\\delta} = 16824.59 $$\n",
        "\n",
        "$\\gamma$ = 16824.58823529412$\\delta$ "
      ]
    },
    {
      "cell_type": "code",
      "metadata": {
        "id": "CZDFbT7xdyEX",
        "colab_type": "code",
        "outputId": "7fd4ab60-1607-4ec2-c9c9-84993f44a86b",
        "colab": {
          "base_uri": "https://localhost:8080/",
          "height": 34
        }
      },
      "source": [
        "##logaritmo natural para evaluar la tasa de crecimmiento de los Alces\n",
        "import math \n",
        "math.log (19353/17330)\n"
      ],
      "execution_count": 0,
      "outputs": [
        {
          "output_type": "execute_result",
          "data": {
            "text/plain": [
              "0.11040834249069967"
            ]
          },
          "metadata": {
            "tags": []
          },
          "execution_count": 9
        }
      ]
    },
    {
      "cell_type": "markdown",
      "metadata": {
        "id": "uAWyn-D2Pf0K",
        "colab_type": "text"
      },
      "source": [
        "Todavia necesitamos otras dos ecuaciones para para poder estimar todos los coeficientes. Para ello razonamos: Cuando la poblacion de depredadores sea muy baja, es de esperar que las presas esten creciendo de manera exponencial. A partir de esta hipoteisis calcularemos **$\\alpha$**1. En la tabla observamos que una poblacion baja de Lobos y al mismo tiempo un crecimeinto rapido de los Alces, corresponde al año 1936. para ests años los datos sin X(t)= 17330 y X(t+1)= 19353 en 1937. si sutistuimos en la formula del crecimiento exponencial  \n",
        "\n",
        "$$ X(t)= X(0)e^{\\alpha*t}, $$ se obtiene\n",
        "\n",
        "$$ 19353= 17330e^{\\alpha}  // \n",
        " \\alpha = ln (\\frac {19353}{17330})= 0.11040834249069967  $$\n",
        "##  **$\\alpha$:** = 11 % la tasa de crecimiento de los Alces el del 11%"
      ]
    },
    {
      "cell_type": "code",
      "metadata": {
        "id": "v6UC_FiowhIR",
        "colab_type": "code",
        "outputId": "cdb9fa8b-3285-432d-f558-d791c855770d",
        "colab": {
          "base_uri": "https://localhost:8080/",
          "height": 34
        }
      },
      "source": [
        "## despejamos la ecuacion para encontrar a Beta\n",
        "(0.11040834249069967/7950.833333333333)"
      ],
      "execution_count": 0,
      "outputs": [
        {
          "output_type": "execute_result",
          "data": {
            "text/plain": [
              "1.3886386226688985e-05"
            ]
          },
          "metadata": {
            "tags": []
          },
          "execution_count": 10
        }
      ]
    },
    {
      "cell_type": "markdown",
      "metadata": {
        "id": "AhFS-drn9o8k",
        "colab_type": "text"
      },
      "source": [
        "* $\\alpha$ = 7950.833333333333$\\beta$\n",
        "* $\\beta$ = $\\alpha$/ 7950.833333333333\n",
        "* $\\beta$ = 0.11040834249069967 / 7950.833333333333\n",
        "\n",
        "\n",
        "* $\\beta$ = 1.3886386226688985e-05"
      ]
    },
    {
      "cell_type": "code",
      "metadata": {
        "id": "E6tgc-zUuMmv",
        "colab_type": "code",
        "outputId": "d1949b11-cb55-4071-8735-e71004a6901a",
        "colab": {
          "base_uri": "https://localhost:8080/",
          "height": 34
        }
      },
      "source": [
        "##logaritmo natural para evaluar la tasa de decrecimiento de los Lobos\n",
        "math.log (7543/8311)"
      ],
      "execution_count": 0,
      "outputs": [
        {
          "output_type": "execute_result",
          "data": {
            "text/plain": [
              "-0.0969599576993955"
            ]
          },
          "metadata": {
            "tags": []
          },
          "execution_count": 11
        }
      ]
    },
    {
      "cell_type": "markdown",
      "metadata": {
        "id": "scTd-Jsw-V3L",
        "colab_type": "text"
      },
      "source": [
        "En el otro caso, una pblacion muy baja de Alces que implica un ritmo elevado en el descenso de la poblacion de Lobos, se da en el anio 1931. Sean y(0) = 8311,  y(1)=7543, se obtiene:\n",
        "\n",
        "* $$ y(0) = e^{-\\gamma*t} $$\n",
        "\n",
        "$$8574 = 9387 e^{-\\gamma}  $$\n",
        "\n",
        "* $$ \\gamma = \\ln (\\frac {7543}{8311}) = -0.0969599576993955$$\n",
        "#  $\\gamma$ = 9.1% tasa decrecimiento de los depredadores."
      ]
    },
    {
      "cell_type": "code",
      "metadata": {
        "id": "NVrkf7C_qv49",
        "colab_type": "code",
        "outputId": "900c71da-a2de-4950-f8ca-255d53b41f9d",
        "colab": {
          "base_uri": "https://localhost:8080/",
          "height": 34
        }
      },
      "source": [
        "## despejamos la ecuacion para encontrar a Delta δ\n",
        "(0.0969599576993955/16824.58823529412)"
      ],
      "execution_count": 0,
      "outputs": [
        {
          "output_type": "execute_result",
          "data": {
            "text/plain": [
              "5.762991423231137e-06"
            ]
          },
          "metadata": {
            "tags": []
          },
          "execution_count": 12
        }
      ]
    },
    {
      "cell_type": "markdown",
      "metadata": {
        "id": "UBRB9pNCrxJx",
        "colab_type": "text"
      },
      "source": [
        "* $\\gamma$ = 16824.58823529412$\\delta$ \n",
        "* δ = $\\gamma$ / 16824.58823529412\n",
        "* $\\delta$ = 0.0969599576993955 / 16824.58823529412\n",
        "\n",
        "\n",
        "* $\\delta$ = 5.762991423231137e-06"
      ]
    },
    {
      "cell_type": "markdown",
      "metadata": {
        "id": "1Y4okXAPKpgt",
        "colab_type": "text"
      },
      "source": [
        "De las expresiones anteriores obtenemos que: \n",
        "* X(0)= 20000 ALces\n",
        "* Y(0)= 6000 Lobos\n",
        "* $\\alpha$ = 0.11040834249069967\n",
        "* $\\beta$ = 1.3886386226688985e-05\n",
        "\n",
        "* $\\gamma$ = 0.0969599576993955\n",
        "* $\\delta$ = 5.762991423231137e-06\n",
        "\n",
        "* X(t) = $\\alpha$ - $\\beta$      >>> 0.11040834249069967 - 1.3886386226688985e-05\n",
        "* Y(t) = - $\\gamma$ + $\\delta$   >>> -0.0969599576993955 + 5.762991423231137e-06"
      ]
    },
    {
      "cell_type": "code",
      "metadata": {
        "id": "YLe75RGiP6O7",
        "colab_type": "code",
        "outputId": "27669155-7832-4fc4-84e0-13327aaf415f",
        "colab": {
          "base_uri": "https://localhost:8080/",
          "height": 442
        }
      },
      "source": [
        "def model(y,t):\n",
        "  dydt=(-0.0969599576993955*y[0]+5.762991423231137e-06*y[0]*y[1], 0.11040834249069967*y[1]-1.3886386226688985e-05*y[0]*y[1])\n",
        "  return dydt\n",
        "\n",
        "y0=[6000,20000]\n",
        "t=np.linspace(1920,1949, num=31)\n",
        "y=odeint(model,y0,t)\n",
        "plt.ylabel('Depredadores-presas')\n",
        "plt.xlabel('tiempo')\n",
        "#print(y[-1])\n",
        "#print(y[:,1])\n",
        "#print(y[-1]/(300+t[-1]))\n",
        "plt.scatter(Anios,Lobos, color='purple')\n",
        "plt.scatter(Anios, Alces, color='r')\n",
        "plt.plot(t,y[:,0], color='b')\n",
        "plt.plot(t,y[:,1], color='orange')\n",
        "plt.rcParams['figure.figsize'] = (35, 15)\n",
        "plt.xticks(df['Anios'])\n",
        "plt.show()\n",
        "#plt.legend();"
      ],
      "execution_count": 0,
      "outputs": [
        {
          "output_type": "display_data",
          "data": {
            "image/png": "[encoded data removed]",
            "text/plain": [
              "<Figure size 1440x504 with 1 Axes>"
            ]
          },
          "metadata": {
            "tags": [],
            "needs_background": "light"
          }
        }
      ]
    },
    {
      "cell_type": "markdown",
      "metadata": {
        "id": "kzZ3sGnyoEXG",
        "colab_type": "text"
      },
      "source": [
        ""
      ]
    },
    {
      "cell_type": "code",
      "metadata": {
        "id": "yDdiNWHJZkhu",
        "colab_type": "code",
        "outputId": "33d09bd9-ede9-48d5-ac78-a5462f375476",
        "colab": {
          "base_uri": "https://localhost:8080/",
          "height": 612
        }
      },
      "source": [
        "plt.plot(y[:,1],y[:,0])\n",
        "plt.ylabel('Depredadores')\n",
        "plt.xlabel('presas')\n",
        "plt.rcParams['figure.figsize'] = (10, 7)"
      ],
      "execution_count": 0,
      "outputs": [
        {
          "output_type": "display_data",
          "data": {
            "image/png": "[encoded data removed]",
            "text/plain": [
              "<Figure size 2520x1080 with 1 Axes>"
            ]
          },
          "metadata": {
            "tags": [],
            "needs_background": "light"
          }
        }
      ]
    },
    {
      "cell_type": "markdown",
      "metadata": {
        "id": "GlIu-IHk3MWA",
        "colab_type": "text"
      },
      "source": [
        "##Se puede observar que este modelo tiene algunas deficiencias, debido a que los datos fueron inventados y no se acercan a una realidad completamente ciclica. Debido a esto se intento aplicar el metodo de minimos a la tabla, pero el modelo no se ajusto a los datos, por esta razon nos quedamos con el método de máximos, aun asi las curvas del modelo son muy olgadas a lo largo tiempo. Podemos inferir que los lobos consumen otras presas y no alcanza a afectar significativamente a la poblacion de Alces.\n",
        "\n",
        "##En la gráfica de Depredador Contra Presa se puede observar que el modelo no es ciclico se corta.\n"
      ]
    },
    {
      "cell_type": "markdown",
      "metadata": {
        "id": "1UpkduAYOq9d",
        "colab_type": "text"
      },
      "source": [
        "\n",
        "\n",
        "---\n",
        "\n",
        "\n",
        "\n",
        "---\n",
        "\n",
        "\n",
        "\n",
        "\n",
        "##Verificamos los datos con el método minimos a las dos poblaciones para calcular el promedio.\n",
        "\n"
      ]
    },
    {
      "cell_type": "code",
      "metadata": {
        "id": "-_lOwTPiHTQ5",
        "colab_type": "code",
        "outputId": "dd34c06a-9547-4458-d78d-b12b93d4578b",
        "colab": {
          "base_uri": "https://localhost:8080/",
          "height": 70
        }
      },
      "source": [
        "## datos minimos de la tabla de los Lobos\n",
        "list=df['Lobos'].array\n",
        "minLobos = list[16:18]\n",
        "print (minLobos)"
      ],
      "execution_count": 0,
      "outputs": [
        {
          "output_type": "stream",
          "text": [
            "<PandasArray>\n",
            "[5732, 5684]\n",
            "Length: 2, dtype: int64\n"
          ],
          "name": "stdout"
        }
      ]
    },
    {
      "cell_type": "code",
      "metadata": {
        "id": "qzbB-xwxHUHu",
        "colab_type": "code",
        "outputId": "f0d7e413-189c-4fd2-fdeb-831cf3ecc771",
        "colab": {
          "base_uri": "https://localhost:8080/",
          "height": 52
        }
      },
      "source": [
        "## Media de los datos min de los Lobos\n",
        "contador = 0\n",
        "for i in range(2):\n",
        "  contador =contador + minLobos[i]\n",
        "  mediaLobos = contador/2\n",
        "  print(mediaLobos)"
      ],
      "execution_count": 0,
      "outputs": [
        {
          "output_type": "stream",
          "text": [
            "2866.0\n",
            "5708.0\n"
          ],
          "name": "stdout"
        }
      ]
    },
    {
      "cell_type": "markdown",
      "metadata": {
        "id": "yTY4tPiOIB6k",
        "colab_type": "text"
      },
      "source": [
        "Por lo tanto la **media** de los valores de los Lobos: $$ Y(t) = \\frac {\\alpha} {\\beta} = 5708.0 $$\n",
        "\n",
        "$\\alpha$ = 5708.0 $\\beta$ "
      ]
    },
    {
      "cell_type": "code",
      "metadata": {
        "id": "cltZMaf1IZHs",
        "colab_type": "code",
        "outputId": "7c36be55-5d41-45e7-bcca-553fbd865cb6",
        "colab": {
          "base_uri": "https://localhost:8080/",
          "height": 87
        }
      },
      "source": [
        "## datos min de la tabla de los Alces\n",
        "list=df['Alces'].array\n",
        "minAlces = list[11:29]\n",
        "print (minAlces)"
      ],
      "execution_count": 0,
      "outputs": [
        {
          "output_type": "stream",
          "text": [
            "<PandasArray>\n",
            "[11289, 11334, 12652, 13884, 15464, 17330, 19353, 21303, 22841, 23567, 23174,\n",
            " 21657, 19383, 16914, 14721, 13046, 11941, 11370]\n",
            "Length: 18, dtype: int64\n"
          ],
          "name": "stdout"
        }
      ]
    },
    {
      "cell_type": "code",
      "metadata": {
        "id": "QJc9_HleJPIt",
        "colab_type": "code",
        "outputId": "a2244fc4-3972-45ee-aa58-08dca8e82c8d",
        "colab": {
          "base_uri": "https://localhost:8080/",
          "height": 336
        }
      },
      "source": [
        "## Media de los datos max de los Alces\n",
        "contador = 0\n",
        "for i in range(18):\n",
        "  contador =contador + minAlces[i]\n",
        "  mediaAlces = contador/18\n",
        "  print(mediaAlces)"
      ],
      "execution_count": 0,
      "outputs": [
        {
          "output_type": "stream",
          "text": [
            "627.1666666666666\n",
            "1256.8333333333333\n",
            "1959.7222222222222\n",
            "2731.0555555555557\n",
            "3590.1666666666665\n",
            "4552.944444444444\n",
            "5628.111111111111\n",
            "6811.611111111111\n",
            "8080.555555555556\n",
            "9389.833333333334\n",
            "10677.277777777777\n",
            "11880.444444444445\n",
            "12957.277777777777\n",
            "13896.944444444445\n",
            "14714.777777777777\n",
            "15439.555555555555\n",
            "16102.944444444445\n",
            "16734.61111111111\n"
          ],
          "name": "stdout"
        }
      ]
    },
    {
      "cell_type": "markdown",
      "metadata": {
        "id": "ZNEn74v-Jhhx",
        "colab_type": "text"
      },
      "source": [
        "Por lo tanto la media de los valores de los Alces:  $$ X(t) = \\frac {\\gamma} {\\delta} = 16734.61111111111 $$\n",
        "\n",
        "$\\gamma$ = 16734.61111111111$\\delta$"
      ]
    },
    {
      "cell_type": "code",
      "metadata": {
        "id": "W2oL6hjQIFmn",
        "colab_type": "code",
        "outputId": "f82068ea-bae3-4ce6-aee2-f0a92b4324f1",
        "colab": {
          "base_uri": "https://localhost:8080/",
          "height": 34
        }
      },
      "source": [
        "##logaritmo natural para evaluar la tasa de crecimmiento de los Alces\n",
        "import math \n",
        "math.log (19353/17330)"
      ],
      "execution_count": 0,
      "outputs": [
        {
          "output_type": "execute_result",
          "data": {
            "text/plain": [
              "0.11040834249069967"
            ]
          },
          "metadata": {
            "tags": []
          },
          "execution_count": 19
        }
      ]
    },
    {
      "cell_type": "markdown",
      "metadata": {
        "id": "aAS_QHzaKY2b",
        "colab_type": "text"
      },
      "source": [
        "Todavia necesitamos otras dos ecuaciones para para poder estimar todos los coeficientes. Para ello razonamos: Cuando la poblacion de depredadores sea muy baja, es de esperar que las presas esten creciendo de manera exponencial. A partir de esta hipoteisis calcularemos **$\\alpha$**1. En la tabla observamos que una poblacion baja de Lobos y al mismo tiempo un crecimeinto rapido de los Alces, corresponde al año 1936. para ests años los datos sin X(t)= 17330 y X(t+1)= 19353 en 1937. si sutistuimos en la formula del crecimiento exponencial  \n",
        "\n",
        "$$ X(t)= X(0)e^{\\alpha*t}, $$ se obtiene\n",
        "\n",
        "$$ 19353= 17330e^{\\alpha}\n",
        " = ln (\\frac {19353}{17330})= 0.11040834249069967  $$\n",
        "* **$\\alpha$:** = 11 % la tasa decrecimiento de los Alces el del 11%"
      ]
    },
    {
      "cell_type": "code",
      "metadata": {
        "id": "pA5HOF9kKkpQ",
        "colab_type": "code",
        "outputId": "0499fb67-3e8a-4523-a05a-1f8503f7e114",
        "colab": {
          "base_uri": "https://localhost:8080/",
          "height": 34
        }
      },
      "source": [
        "## despejamos la ecuacion para encontrar a Beta\n",
        "(0.11040834249069967/5708.0)"
      ],
      "execution_count": 0,
      "outputs": [
        {
          "output_type": "execute_result",
          "data": {
            "text/plain": [
              "1.9342736946513608e-05"
            ]
          },
          "metadata": {
            "tags": []
          },
          "execution_count": 20
        }
      ]
    },
    {
      "cell_type": "markdown",
      "metadata": {
        "id": "Ikk9ldJNLTxa",
        "colab_type": "text"
      },
      "source": [
        "* $\\alpha$ = 5708.0 $\\beta$ \n",
        "* $\\beta$ = $\\alpha$/ 5708.0\n",
        "* $\\beta$ = 0.11040834249069967 / 5708.0\n",
        "\n",
        "\n",
        "* $\\beta$ = 1.9342736946513608e-05"
      ]
    },
    {
      "cell_type": "code",
      "metadata": {
        "id": "cSHC_PgWLUmA",
        "colab_type": "code",
        "outputId": "bb8d3433-0d50-412a-cd1b-f1711e68f141",
        "colab": {
          "base_uri": "https://localhost:8080/",
          "height": 34
        }
      },
      "source": [
        "##logaritmo natural para evaluar la tasa de decrecimiento de los Lobos\n",
        "math.log (7543/8311)"
      ],
      "execution_count": 0,
      "outputs": [
        {
          "output_type": "execute_result",
          "data": {
            "text/plain": [
              "-0.0969599576993955"
            ]
          },
          "metadata": {
            "tags": []
          },
          "execution_count": 21
        }
      ]
    },
    {
      "cell_type": "markdown",
      "metadata": {
        "id": "hcqnJAdwMwoQ",
        "colab_type": "text"
      },
      "source": [
        "En el otro caso, una pblacion muy baja de Alces que implica un ritmo elevado en el descenso de la poblacion de Lobos, se da en el anio 1931. Sean y(0) = 8311,  y(1)=7543, se obtiene:\n",
        "\n",
        "* $$ y(0) = e^{-\\gamma*t} $$\n",
        "\n",
        "$$8574 = 9387 e^{-\\gamma}  $$\n",
        "\n",
        "* $$ \\gamma = \\ln (\\frac {7543}{8311}) = -0.0969599576993955$$\n",
        "* $\\gamma$ = -9.1% tasa decrecimeinto de los depredadores."
      ]
    },
    {
      "cell_type": "code",
      "metadata": {
        "id": "JiJB4nzcMxIY",
        "colab_type": "code",
        "outputId": "81f1677e-0820-4b43-e993-c7f9f815b824",
        "colab": {
          "base_uri": "https://localhost:8080/",
          "height": 34
        }
      },
      "source": [
        "## despejamos la ecuacion para encontrar a Delta δ\n",
        "(0.0969599576993955/16824.58823529412)"
      ],
      "execution_count": 0,
      "outputs": [
        {
          "output_type": "execute_result",
          "data": {
            "text/plain": [
              "5.762991423231137e-06"
            ]
          },
          "metadata": {
            "tags": []
          },
          "execution_count": 22
        }
      ]
    },
    {
      "cell_type": "markdown",
      "metadata": {
        "id": "oNFBPibFM_mD",
        "colab_type": "text"
      },
      "source": [
        "* $\\gamma$ = 16734.61111111111$\\delta$\n",
        "* δ = $\\gamma$ / 16734.61111111111\n",
        "* $\\delta$ = 0.0969599576993955 / 16734.61111111111\n",
        "\n",
        "\n",
        "* $\\delta$ = 5.762991423231137e-06"
      ]
    },
    {
      "cell_type": "markdown",
      "metadata": {
        "id": "3kbbt5lSN2Tb",
        "colab_type": "text"
      },
      "source": [
        "De las expresiones anteriores obtenemos que: \n",
        "* X(0)= 20000 Alces\n",
        "* Y(0)= 6000 Lobos\n",
        "* $\\alpha$ = 0.11040834249069967\n",
        "* $\\beta$ = 1.9342736946513608e-05\n",
        "* $\\gamma$ = -0.0969599576993955\n",
        "* $\\delta$ = 5.762991423231137e-06\n",
        "\n",
        "beta =6538049.367000001\n",
        "delta= 125773.0325\n",
        "* X(t) = $\\alpha$ - $\\beta$    ____ 0.11040834249069967 - 1.9342736946513608e-05\n",
        "* Y(t) = - $\\gamma$ + $\\delta$ ____ -0.0969599576993955 + 5.762991423231137e-06"
      ]
    },
    {
      "cell_type": "code",
      "metadata": {
        "id": "RqCkFTB8OLJs",
        "colab_type": "code",
        "outputId": "27eb7558-984d-4610-f4da-027170158dd3",
        "colab": {
          "base_uri": "https://localhost:8080/",
          "height": 442
        }
      },
      "source": [
        "def model(y,t):\n",
        "  dydt=(-0.0969599576993955*y[0]+5.762991423231137e-06*y[0]*y[1], 0.11040834249069967*y[1]-1.9342736946513608e-05*y[0]*y[1])\n",
        "  return dydt\n",
        "\n",
        "y0=[6000,20000]\n",
        "t=np.linspace(1920,1949, num=31)\n",
        "y=odeint(model,y0,t)\n",
        "plt.ylabel('Depredadores-presas')\n",
        "plt.xlabel('tiempo')\n",
        "plt.scatter(Anios,Lobos, color='purple')\n",
        "plt.scatter(Anios, Alces, color='r')\n",
        "plt.plot(t,y[:,0], color='b')\n",
        "plt.plot(t,y[:,1], color='orange')\n",
        "plt.rcParams['figure.figsize'] = (45, 15)\n",
        "plt.xticks(df['Anios'])\n",
        "plt.show()\n",
        "#plt.legend();"
      ],
      "execution_count": 0,
      "outputs": [
        {
          "output_type": "display_data",
          "data": {
            "image/png": "[encoded data removed]",
            "text/plain": [
              "<Figure size 720x504 with 1 Axes>"
            ]
          },
          "metadata": {
            "tags": [],
            "needs_background": "light"
          }
        }
      ]
    },
    {
      "cell_type": "code",
      "metadata": {
        "id": "Aqe_Xq1dO7az",
        "colab_type": "code",
        "outputId": "3b044a5d-04a8-4fdf-feb0-3e6546b459fd",
        "colab": {
          "base_uri": "https://localhost:8080/",
          "height": 484
        }
      },
      "source": [
        "plt.plot(y[:,1],y[:,0])\n",
        "plt.ylabel('Depredadores')\n",
        "plt.xlabel('presas')\n",
        "plt.rcParams['figure.figsize'] = (10, 7)"
      ],
      "execution_count": 0,
      "outputs": [
        {
          "output_type": "display_data",
          "data": {
            "image/png": "[encoded data removed]",
            "text/plain": [
              "<Figure size 3240x1080 with 1 Axes>"
            ]
          },
          "metadata": {
            "tags": [],
            "needs_background": "light"
          }
        }
      ]
    }
  ]
}
